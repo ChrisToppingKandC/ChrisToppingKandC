{
 "cells": [
  {
   "cell_type": "code",
   "execution_count": 2,
   "metadata": {},
   "outputs": [],
   "source": [
    "from pydantic import BaseModel, ConfigDict\n",
    "import pprint"
   ]
  },
  {
   "cell_type": "code",
   "execution_count": 3,
   "metadata": {},
   "outputs": [],
   "source": [
    "class Cases(BaseModel):\n",
    "    CaseReference: str"
   ]
  },
  {
   "cell_type": "code",
   "execution_count": 13,
   "metadata": {},
   "outputs": [],
   "source": [
    "data = {\n",
    "    \"CaseReference\": \"Test\"\n",
    "}"
   ]
  },
  {
   "cell_type": "code",
   "execution_count": 15,
   "metadata": {},
   "outputs": [],
   "source": [
    "instance = Cases(**data)"
   ]
  },
  {
   "cell_type": "code",
   "execution_count": 21,
   "metadata": {},
   "outputs": [
    {
     "ename": "TypeError",
     "evalue": "BaseModel.__init__() takes 1 positional argument but 4 were given",
     "output_type": "error",
     "traceback": [
      "\u001b[1;31m---------------------------------------------------------------------------\u001b[0m",
      "\u001b[1;31mTypeError\u001b[0m                                 Traceback (most recent call last)",
      "\u001b[1;32mc:\\Users\\ChrisTopping\\Git\\class_test.ipynb Cell 5\u001b[0m line \u001b[0;36m9\n\u001b[0;32m      <a href='vscode-notebook-cell:/c%3A/Users/ChrisTopping/Git/class_test.ipynb#W4sZmlsZQ%3D%3D?line=3'>4</a>\u001b[0m         annotations \u001b[39m=\u001b[39m {\n\u001b[0;32m      <a href='vscode-notebook-cell:/c%3A/Users/ChrisTopping/Git/class_test.ipynb#W4sZmlsZQ%3D%3D?line=4'>5</a>\u001b[0m             name\u001b[39m.\u001b[39mlower(): value \u001b[39mfor\u001b[39;00m name, value \u001b[39min\u001b[39;00m \u001b[39mcls\u001b[39m\u001b[39m.\u001b[39m\u001b[39m__annotations__\u001b[39m\u001b[39m.\u001b[39mitems()\n\u001b[0;32m      <a href='vscode-notebook-cell:/c%3A/Users/ChrisTopping/Git/class_test.ipynb#W4sZmlsZQ%3D%3D?line=5'>6</a>\u001b[0m         }\n\u001b[0;32m      <a href='vscode-notebook-cell:/c%3A/Users/ChrisTopping/Git/class_test.ipynb#W4sZmlsZQ%3D%3D?line=6'>7</a>\u001b[0m         \u001b[39mcls\u001b[39m\u001b[39m.\u001b[39m\u001b[39m__annotations__\u001b[39m \u001b[39m=\u001b[39m annotations\n\u001b[1;32m----> <a href='vscode-notebook-cell:/c%3A/Users/ChrisTopping/Git/class_test.ipynb#W4sZmlsZQ%3D%3D?line=8'>9</a>\u001b[0m Cases \u001b[39m=\u001b[39m LowercaseModel(\u001b[39m\"\u001b[39;49m\u001b[39mCases\u001b[39;49m\u001b[39m\"\u001b[39;49m, (Cases,),{})\n\u001b[0;32m     <a href='vscode-notebook-cell:/c%3A/Users/ChrisTopping/Git/class_test.ipynb#W4sZmlsZQ%3D%3D?line=10'>11</a>\u001b[0m \u001b[39m# Display the updated model with lowercase field names\u001b[39;00m\n\u001b[0;32m     <a href='vscode-notebook-cell:/c%3A/Users/ChrisTopping/Git/class_test.ipynb#W4sZmlsZQ%3D%3D?line=11'>12</a>\u001b[0m \u001b[39mprint\u001b[39m(Cases\u001b[39m.\u001b[39m\u001b[39m__annotations__\u001b[39m) \n",
      "\u001b[1;31mTypeError\u001b[0m: BaseModel.__init__() takes 1 positional argument but 4 were given"
     ]
    }
   ],
   "source": [
    "class LowercaseModel(BaseModel):\n",
    "    def __init_subclass__(cls, **kwargs):\n",
    "        super().__init_subclass__(**kwargs)\n",
    "        annotations = {\n",
    "            name.lower(): value for name, value in cls.__annotations__.items()\n",
    "        }\n",
    "        cls.__annotations__ = annotations\n",
    "\n",
    "Cases = LowercaseModel(\"Cases\", (Cases,),{})\n",
    "\n",
    "# Display the updated model with lowercase field names\n",
    "print(Cases.__annotations__) "
   ]
  }
 ],
 "metadata": {
  "kernelspec": {
   "display_name": "functions-env",
   "language": "python",
   "name": "python3"
  },
  "language_info": {
   "codemirror_mode": {
    "name": "ipython",
    "version": 3
   },
   "file_extension": ".py",
   "mimetype": "text/x-python",
   "name": "python",
   "nbconvert_exporter": "python",
   "pygments_lexer": "ipython3",
   "version": "3.11.5"
  }
 },
 "nbformat": 4,
 "nbformat_minor": 2
}
