{
 "cells": [
  {
   "cell_type": "code",
   "execution_count": 11,
   "metadata": {},
   "outputs": [],
   "source": [
    "import json\n",
    "import pprint\n",
    "from pathlib import Path"
   ]
  },
  {
   "cell_type": "code",
   "execution_count": 12,
   "metadata": {},
   "outputs": [
    {
     "name": "stdout",
     "output_type": "stream",
     "text": [
      "c:\\Users\\ChrisTopping\\Git\\ODW-Service\\workspace\\sqlscript\\add_user.json\n"
     ]
    }
   ],
   "source": [
    "sql_file = Path.cwd() / \"ODW-Service\" / \"workspace\" / \"sqlscript\" / \"add_user.json\"\n",
    "print(sql_file)"
   ]
  },
  {
   "cell_type": "code",
   "execution_count": 17,
   "metadata": {},
   "outputs": [
    {
     "name": "stdout",
     "output_type": "stream",
     "text": [
      "('/*\\n'\n",
      " 'CODE TO ADD A NEW USER. EXAMPLE BASED ON A MANAGED IDENTITY BUT CAN BE '\n",
      " 'ADAPTED.\\n'\n",
      " '\\n'\n",
      " '1. SPECIFY USER NAME OR APP NAME FOR @NEW_USER\\n'\n",
      " '2. SPECIFY THE DATABASE YOU WANT TO ADD THE USER TO\\n'\n",
      " '3. RUN THE DROP USER CODE IN CASE IT ALREADY EXISTS - ERROR IF NOT FOUND '\n",
      " 'WHICH IS FINE\\n'\n",
      " '4. RUN CREATE USER AND GRANT PERMISSION CODE TOGETHER, COMMENTING OUT THE '\n",
      " 'DROP USER CODE\\n'\n",
      " '5. USE THE CODE SAMPLE BELOW TO CHECK THE CREATION AND ROLE ASSIGNMENTS  \\n'\n",
      " '\\n'\n",
      " '*/\\n'\n",
      " '\\n'\n",
      " 'DECLARE @NEW_USER NVARCHAR(MAX);\\n'\n",
      " \"SET @NEW_USER = 'pins-dart-app';\\n\"\n",
      " 'DECLARE @DB NVARCHAR(MAX);\\n'\n",
      " \"SET @DB = 'ODW_CURATED_DB';\\n\"\n",
      " '\\n'\n",
      " '-- DROP USER\\n'\n",
      " '-- DECLARE @DROP_USER NVARCHAR(MAX)\\n'\n",
      " \"-- SET @DROP_USER = 'USE ' + QUOTENAME(@DB) + '; DROP USER ' + \"\n",
      " 'QUOTENAME(@NEW_USER);\\n'\n",
      " '-- EXEC SP_EXECUTESQL @DROP_USER\\n'\n",
      " \"-- PRINT N'USER ' + @NEW_USER + ' DROPPED'\\n\"\n",
      " '\\n'\n",
      " '-- CREATE NEW USER\\n'\n",
      " 'DECLARE @CREATE_USER NVARCHAR(MAX);\\n'\n",
      " \"SET @CREATE_USER = 'USE ' + QUOTENAME(@DB) + '; CREATE USER ' + \"\n",
      " \"QUOTENAME(@NEW_USER) + ' FROM EXTERNAL PROVIDER;';\\n\"\n",
      " 'EXEC SP_EXECUTESQL @CREATE_USER;\\n'\n",
      " \"PRINT N'NEW USER ' + @NEW_USER + ' CREATED';\\n\"\n",
      " '\\n'\n",
      " '-- GRANT DB_DATAREADER ROLE ON DATABASE\\n'\n",
      " 'DECLARE @GRANT_PERMISSIONS NVARCHAR(MAX);\\n'\n",
      " \"SET @GRANT_PERMISSIONS = 'USE ' + QUOTENAME(@DB) + '; ALTER ROLE \"\n",
      " \"db_datareader ADD MEMBER ' + QUOTENAME(@NEW_USER);\\n\"\n",
      " 'EXEC SP_EXECUTESQL @GRANT_PERMISSIONS;\\n'\n",
      " \"PRINT N'NEW USER ' + @NEW_USER + ' GRANTED DB_DATAREADER ROLE ON DATABASE ' \"\n",
      " '+ @DB;\\n'\n",
      " '\\n'\n",
      " '\\n'\n",
      " '/*\\n'\n",
      " 'CHECK USER EXISTS - OBJECT ID SHOULD MATCH APP ID FROM ENTRA ID FOR MANAGED '\n",
      " 'IDENTITIES\\n'\n",
      " 'IF YOU RECREATE A USER WITH THE SAME NAME THE OBJECT ID WILL REMAIN THE SAME '\n",
      " 'BUT MAY NOT\\n'\n",
      " 'MATCH THE NEW MANAGED IDENTITY APP ID, HENCE THE NEED TO DRO THE USER FIRST '\n",
      " 'BEFORE CREATING\\n'\n",
      " 'AGAIN\\n'\n",
      " '*/\\n'\n",
      " '\\n'\n",
      " '--SID to OBJECTID\\n'\n",
      " '-- USE ODW_CURATED_DB;\\n'\n",
      " '\\n'\n",
      " '-- SELECT\\n'\n",
      " '-- \\tDP.name\\n'\n",
      " '-- \\t,DP.principal_id\\n'\n",
      " '-- \\t,DP.type\\n'\n",
      " '-- \\t,DP.type_desc\\n'\n",
      " '-- \\t,DP.SID\\n'\n",
      " '-- \\t,OBJECTID = CONVERT(uniqueidentifier, DP.SID)\\n'\n",
      " '-- FROM SYS.database_principals DP\\n'\n",
      " \"-- WHERE DP.type IN ('S','X','E')\\n\"\n",
      " '\\n'\n",
      " '/*\\n'\n",
      " 'SAMPLE CODE TO LIST DATABASE ROLE MEMBERS\\n'\n",
      " '*/\\n'\n",
      " '\\n'\n",
      " '-- USE ODW_STANDARDISED_DB;\\n'\n",
      " '-- SELECT DP1.name AS DatabaseRoleName,   \\n'\n",
      " \"--    isnull (DP2.name, 'No members') AS DatabaseUserName   \\n\"\n",
      " '--  FROM sys.database_role_members AS DRM  \\n'\n",
      " '--  RIGHT OUTER JOIN sys.database_principals AS DP1  \\n'\n",
      " '--    ON DRM.role_principal_id = DP1.principal_id  \\n'\n",
      " '--  LEFT OUTER JOIN sys.database_principals AS DP2  \\n'\n",
      " '--    ON DRM.member_principal_id = DP2.principal_id  \\n'\n",
      " \"-- WHERE DP1.type = 'R'\\n\"\n",
      " '-- ORDER BY DP1.name;')\n"
     ]
    }
   ],
   "source": [
    "with open(sql_file) as file:\n",
    "    contents = json.loads(file.read())\n",
    "    pprint.pprint(contents[\"properties\"][\"content\"][\"query\"])\n"
   ]
  }
 ],
 "metadata": {
  "kernelspec": {
   "display_name": "base",
   "language": "python",
   "name": "python3"
  },
  "language_info": {
   "codemirror_mode": {
    "name": "ipython",
    "version": 3
   },
   "file_extension": ".py",
   "mimetype": "text/x-python",
   "name": "python",
   "nbconvert_exporter": "python",
   "pygments_lexer": "ipython3",
   "version": "3.10.13"
  }
 },
 "nbformat": 4,
 "nbformat_minor": 2
}
