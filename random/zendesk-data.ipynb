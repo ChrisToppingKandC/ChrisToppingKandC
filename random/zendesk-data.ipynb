{
 "cells": [
  {
   "cell_type": "code",
   "execution_count": 1,
   "metadata": {},
   "outputs": [],
   "source": [
    "import pandas as pd\n",
    "import pprint\n",
    "import json"
   ]
  },
  {
   "cell_type": "code",
   "execution_count": 2,
   "metadata": {},
   "outputs": [],
   "source": [
    "file = r'C:\\Users\\ChrisTopping\\Downloads\\created_24hours_2024-04-24.json'"
   ]
  },
  {
   "cell_type": "code",
   "execution_count": 7,
   "metadata": {},
   "outputs": [
    {
     "name": "stdout",
     "output_type": "stream",
     "text": [
      "<class 'list'>\n"
     ]
    }
   ],
   "source": [
    "with open(file, 'r', encoding='utf-8-sig') as datafile:\n",
    "    data = json.loads(datafile.read())\n",
    "    print(type(data))"
   ]
  },
  {
   "cell_type": "code",
   "execution_count": 4,
   "metadata": {},
   "outputs": [
    {
     "data": {
      "text/html": [
       "<div>\n",
       "<style scoped>\n",
       "    .dataframe tbody tr th:only-of-type {\n",
       "        vertical-align: middle;\n",
       "    }\n",
       "\n",
       "    .dataframe tbody tr th {\n",
       "        vertical-align: top;\n",
       "    }\n",
       "\n",
       "    .dataframe thead th {\n",
       "        text-align: right;\n",
       "    }\n",
       "</style>\n",
       "<table border=\"1\" class=\"dataframe\">\n",
       "  <thead>\n",
       "    <tr style=\"text-align: right;\">\n",
       "      <th></th>\n",
       "      <th>results</th>\n",
       "      <th>facets</th>\n",
       "      <th>next_page</th>\n",
       "      <th>previous_page</th>\n",
       "      <th>count</th>\n",
       "    </tr>\n",
       "  </thead>\n",
       "  <tbody>\n",
       "    <tr>\n",
       "      <th>0</th>\n",
       "      <td>[{'url': 'https://pinssupport.zendesk.com/api/...</td>\n",
       "      <td>None</td>\n",
       "      <td>None</td>\n",
       "      <td>None</td>\n",
       "      <td>82</td>\n",
       "    </tr>\n",
       "  </tbody>\n",
       "</table>\n",
       "</div>"
      ],
      "text/plain": [
       "                                             results facets next_page  \\\n",
       "0  [{'url': 'https://pinssupport.zendesk.com/api/...   None      None   \n",
       "\n",
       "  previous_page  count  \n",
       "0          None     82  "
      ]
     },
     "execution_count": 4,
     "metadata": {},
     "output_type": "execute_result"
    }
   ],
   "source": [
    "df = pd.DataFrame(data)\n",
    "df.head(5)"
   ]
  },
  {
   "cell_type": "code",
   "execution_count": 6,
   "metadata": {},
   "outputs": [
    {
     "name": "stdout",
     "output_type": "stream",
     "text": [
      "[(53654, '2024-04-24T21:47:28Z'),\n",
      " (53653, '2024-04-24T21:34:22Z'),\n",
      " (53652, '2024-04-24T20:12:45Z'),\n",
      " (53651, '2024-04-24T17:16:16Z'),\n",
      " (53650, '2024-04-24T16:47:58Z'),\n",
      " (53649, '2024-04-24T16:44:36Z'),\n",
      " (53648, '2024-04-24T16:18:24Z'),\n",
      " (53647, '2024-04-24T15:45:01Z'),\n",
      " (53646, '2024-04-24T15:43:12Z'),\n",
      " (53645, '2024-04-24T15:10:48Z'),\n",
      " (53644, '2024-04-24T14:56:32Z'),\n",
      " (53643, '2024-04-24T14:49:00Z'),\n",
      " (53642, '2024-04-24T14:42:03Z'),\n",
      " (53641, '2024-04-24T14:36:40Z'),\n",
      " (53640, '2024-04-24T14:36:38Z'),\n",
      " (53639, '2024-04-24T14:35:53Z'),\n",
      " (53638, '2024-04-24T14:31:48Z'),\n",
      " (53637, '2024-04-24T14:13:08Z'),\n",
      " (53636, '2024-04-24T14:06:39Z'),\n",
      " (53635, '2024-04-24T14:03:28Z'),\n",
      " (53634, '2024-04-24T13:50:17Z'),\n",
      " (53633, '2024-04-24T13:50:01Z'),\n",
      " (53632, '2024-04-24T13:49:37Z'),\n",
      " (53631, '2024-04-24T13:48:18Z'),\n",
      " (53630, '2024-04-24T13:35:24Z'),\n",
      " (53629, '2024-04-24T13:34:04Z'),\n",
      " (53628, '2024-04-24T13:26:05Z'),\n",
      " (53627, '2024-04-24T13:19:57Z'),\n",
      " (53626, '2024-04-24T13:08:39Z'),\n",
      " (53625, '2024-04-24T13:05:32Z'),\n",
      " (53624, '2024-04-24T12:58:42Z'),\n",
      " (53623, '2024-04-24T12:58:32Z'),\n",
      " (53622, '2024-04-24T12:53:50Z'),\n",
      " (53621, '2024-04-24T12:33:14Z'),\n",
      " (53620, '2024-04-24T12:18:30Z'),\n",
      " (53619, '2024-04-24T12:15:59Z'),\n",
      " (53618, '2024-04-24T11:56:18Z'),\n",
      " (53617, '2024-04-24T11:52:33Z'),\n",
      " (53616, '2024-04-24T11:40:25Z'),\n",
      " (53615, '2024-04-24T11:36:40Z'),\n",
      " (53614, '2024-04-24T11:31:10Z'),\n",
      " (53613, '2024-04-24T11:29:42Z'),\n",
      " (53612, '2024-04-24T11:29:13Z'),\n",
      " (53611, '2024-04-24T11:27:12Z'),\n",
      " (53610, '2024-04-24T11:26:07Z'),\n",
      " (53609, '2024-04-24T11:21:53Z'),\n",
      " (53608, '2024-04-24T11:21:49Z'),\n",
      " (53607, '2024-04-24T11:18:53Z'),\n",
      " (53606, '2024-04-24T11:12:01Z'),\n",
      " (53605, '2024-04-24T11:09:12Z'),\n",
      " (53604, '2024-04-24T10:51:43Z'),\n",
      " (53603, '2024-04-24T10:47:19Z'),\n",
      " (53602, '2024-04-24T10:45:39Z'),\n",
      " (53601, '2024-04-24T10:45:06Z'),\n",
      " (53600, '2024-04-24T10:39:42Z'),\n",
      " (53599, '2024-04-24T10:26:58Z'),\n",
      " (53598, '2024-04-24T10:22:23Z'),\n",
      " (53597, '2024-04-24T10:17:37Z'),\n",
      " (53596, '2024-04-24T10:05:13Z'),\n",
      " (53595, '2024-04-24T10:04:53Z'),\n",
      " (53594, '2024-04-24T10:04:45Z'),\n",
      " (53593, '2024-04-24T10:02:01Z'),\n",
      " (53592, '2024-04-24T09:47:37Z'),\n",
      " (53591, '2024-04-24T09:45:04Z'),\n",
      " (53590, '2024-04-24T09:37:40Z'),\n",
      " (53589, '2024-04-24T09:36:39Z'),\n",
      " (53588, '2024-04-24T09:36:20Z'),\n",
      " (53587, '2024-04-24T09:18:38Z'),\n",
      " (53586, '2024-04-24T09:08:14Z'),\n",
      " (53585, '2024-04-24T09:03:33Z'),\n",
      " (53584, '2024-04-24T08:56:38Z'),\n",
      " (53583, '2024-04-24T08:56:32Z'),\n",
      " (53582, '2024-04-24T08:54:33Z'),\n",
      " (53581, '2024-04-24T08:48:56Z'),\n",
      " (53580, '2024-04-24T08:45:01Z'),\n",
      " (53579, '2024-04-24T08:41:16Z'),\n",
      " (53578, '2024-04-24T08:26:28Z'),\n",
      " (53577, '2024-04-24T08:16:16Z'),\n",
      " (53576, '2024-04-24T07:01:21Z'),\n",
      " (53575, '2024-04-24T06:37:54Z'),\n",
      " (53574, '2024-04-23T23:48:24Z'),\n",
      " (53573, '2024-04-23T23:03:00Z')]\n"
     ]
    }
   ],
   "source": [
    "results = data[0]['results']\n",
    "resultList = []\n",
    "for i in results:\n",
    "    id = i['id']\n",
    "    created_at = i['created_at']\n",
    "    resultList.append((id, created_at))\n",
    "\n",
    "pprint.pprint(resultList)\n"
   ]
  }
 ],
 "metadata": {
  "kernelspec": {
   "display_name": "base",
   "language": "python",
   "name": "python3"
  },
  "language_info": {
   "codemirror_mode": {
    "name": "ipython",
    "version": 3
   },
   "file_extension": ".py",
   "mimetype": "text/x-python",
   "name": "python",
   "nbconvert_exporter": "python",
   "pygments_lexer": "ipython3",
   "version": "3.10.13"
  },
  "orig_nbformat": 4
 },
 "nbformat": 4,
 "nbformat_minor": 2
}
