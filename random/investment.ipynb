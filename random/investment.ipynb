{
 "cells": [
  {
   "cell_type": "code",
   "execution_count": 1,
   "metadata": {},
   "outputs": [],
   "source": [
    "def investment_calculator(monthly_contribution, annual_interest_rate, years):\n",
    "    monthly_interest_rate = annual_interest_rate / 12 / 100  # Converting annual interest rate to monthly\n",
    "    total_months = years * 12  # Converting years to months\n",
    "    future_value = 0\n",
    "\n",
    "    for month in range(total_months):\n",
    "        future_value *= 1 + monthly_interest_rate  # Applying interest to existing value\n",
    "        future_value += monthly_contribution  # Adding monthly contribution\n",
    "\n",
    "    return future_value\n",
    "\n",
    "def future_value_no_payments(principal_amount, annual_interest_rate, years):\n",
    "    monthly_interest_rate = annual_interest_rate / 12 / 100  # Converting annual interest rate to monthly\n",
    "    total_months = years * 12  # Converting years to months\n",
    "\n",
    "    future_value = principal_amount * (1 + monthly_interest_rate) ** total_months\n",
    "    return future_value\n",
    "\n",
    "def future_value_with_payments(principal_amount, monthly_contribution, annual_interest_rate, years):\n",
    "    monthly_interest_rate = annual_interest_rate / 12 / 100  # Converting annual interest rate to monthly\n",
    "    total_months = years * 12  # Converting years to months\n",
    "    future_value = principal_amount\n",
    "\n",
    "    for month in range(total_months):\n",
    "        future_value *= 1 + monthly_interest_rate  # Applying interest to existing value\n",
    "        future_value += monthly_contribution  # Adding monthly contribution\n",
    "\n",
    "    return future_value"
   ]
  },
  {
   "cell_type": "code",
   "execution_count": 5,
   "metadata": {},
   "outputs": [
    {
     "name": "stdout",
     "output_type": "stream",
     "text": [
      "The future value of your investment after 40 years will be: £76,301.01\n"
     ]
    }
   ],
   "source": [
    "# investment with regular monthly contributions\n",
    "monthly_contribution = 50  # Change this to your desired monthly contribution\n",
    "annual_interest_rate = 5  # Change this to your desired annual interest rate\n",
    "investment_years = 40  # Change this to the number of years you plan to invest\n",
    "\n",
    "result = investment_calculator(monthly_contribution, annual_interest_rate, investment_years)\n",
    "formatted_result = \"{:,.2f}\".format(result)  # Adding comma separator to the result\n",
    "\n",
    "print(f\"The future value of your investment after {investment_years} years will be: £{formatted_result}\")"
   ]
  },
  {
   "cell_type": "code",
   "execution_count": 8,
   "metadata": {},
   "outputs": [
    {
     "name": "stdout",
     "output_type": "stream",
     "text": [
      "The future value of your investment after 10 years without monthly contributions will be: £115,290.66\n"
     ]
    }
   ],
   "source": [
    "# investment with no monthly contributions:\n",
    "principal_amount = 115000  # Change this to your initial principal amount\n",
    "annual_interest_rate = 5  # Change this to your desired annual interest rate\n",
    "investment_years = 10  # Change this to the number of years you plan to invest\n",
    "\n",
    "result_no_payments = future_value_no_payments(principal_amount, annual_interest_rate, investment_years)\n",
    "formatted_result_no_payments = \"{:,.2f}\".format(result_no_payments)  # Adding comma separator to the result\n",
    "\n",
    "print(f\"The future value of your investment after {investment_years} years without monthly contributions will be: £{formatted_result_no_payments}\")"
   ]
  },
  {
   "cell_type": "code",
   "execution_count": 7,
   "metadata": {},
   "outputs": [
    {
     "name": "stdout",
     "output_type": "stream",
     "text": [
      "The future value of your investment after 8 years with monthly contributions will be: £74,151.08\n"
     ]
    }
   ],
   "source": [
    "# investment with initial principal and monthly contributions:\n",
    "initial_principal = 18000  # Change this to your initial principal amount\n",
    "monthly_contribution = 333  # Change this to your desired monthly contribution\n",
    "annual_interest_rate = 7  # Change this to your desired annual interest rate\n",
    "investment_years = 8  # Change this to the number of years you plan to invest\n",
    "\n",
    "result_with_payments = future_value_with_payments(initial_principal, monthly_contribution, annual_interest_rate, investment_years)\n",
    "formatted_result_with_payments = \"{:,.2f}\".format(result_with_payments)  # Adding comma separator to the result\n",
    "\n",
    "print(f\"The future value of your investment after {investment_years} years with monthly contributions will be: £{formatted_result_with_payments}\")"
   ]
  }
 ],
 "metadata": {
  "kernelspec": {
   "display_name": "base",
   "language": "python",
   "name": "python3"
  },
  "language_info": {
   "codemirror_mode": {
    "name": "ipython",
    "version": 3
   },
   "file_extension": ".py",
   "mimetype": "text/x-python",
   "name": "python",
   "nbconvert_exporter": "python",
   "pygments_lexer": "ipython3",
   "version": "3.10.13"
  }
 },
 "nbformat": 4,
 "nbformat_minor": 2
}
