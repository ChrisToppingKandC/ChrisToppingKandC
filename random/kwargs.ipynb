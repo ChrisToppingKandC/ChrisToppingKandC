{
 "cells": [
  {
   "cell_type": "code",
   "execution_count": 44,
   "metadata": {},
   "outputs": [],
   "source": [
    "def f1(a: int, **kwargs) -> None:\n",
    "    print(f\"Function f1 was called with {kwargs}\")\n",
    "    print(f\"Funaction F1 called with argument value {a}\")\n",
    "\n",
    "def f2(a: int, b: str, **kwargs) -> None:\n",
    "    print(f\"Function f2 was called with {kwargs}\")\n",
    "    print(f\"Funaction F2 called with argument value {a} and {b}\")"
   ]
  },
  {
   "cell_type": "code",
   "execution_count": 12,
   "metadata": {},
   "outputs": [
    {
     "name": "stdout",
     "output_type": "stream",
     "text": [
      "Funaction F1 called with argument value 1 and x\n"
     ]
    }
   ],
   "source": [
    "f2(1, 'x')"
   ]
  },
  {
   "cell_type": "code",
   "execution_count": 38,
   "metadata": {},
   "outputs": [],
   "source": [
    "kwargs = {'a': 3, 'b': 'x', 'c': 123}"
   ]
  },
  {
   "cell_type": "code",
   "execution_count": 45,
   "metadata": {},
   "outputs": [
    {
     "name": "stdout",
     "output_type": "stream",
     "text": [
      "Function f1 was called with {'b': 'x', 'c': 123}\n",
      "Funaction F1 called with argument value 3\n"
     ]
    }
   ],
   "source": [
    "f1(**kwargs)"
   ]
  },
  {
   "cell_type": "code",
   "execution_count": 46,
   "metadata": {},
   "outputs": [
    {
     "name": "stdout",
     "output_type": "stream",
     "text": [
      "Function f2 was called with {'c': 123}\n",
      "Funaction F2 called with argument value 3 and x\n"
     ]
    }
   ],
   "source": [
    "f2(**kwargs)"
   ]
  },
  {
   "cell_type": "code",
   "execution_count": 40,
   "metadata": {},
   "outputs": [
    {
     "name": "stdout",
     "output_type": "stream",
     "text": [
      "{'__name__': '__main__', '__doc__': 'Automatically created module for IPython interactive environment', '__package__': None, '__loader__': None, '__spec__': None, '__builtin__': <module 'builtins' (built-in)>, '__builtins__': <module 'builtins' (built-in)>, '_ih': ['', 'def f1(a: int) -> None:\\n    print(f\"Funaction F1 called with argument value {a}\")\\n\\ndef f2(a: int, b: str) -> None:\\n    print(f\"Funaction F1 called with argument value {a} and {b}\")', 'f1(1)', 'f2(1)', \"f2(1, 'x')\", \"kwargs = {'a': 1, 'b': 'x'}\", 'f1(kwargs=kwargs)', 'f1(**kwargs)', 'def f1(a: int, **kwargs) -> None:\\n    print(f\"Funaction F1 called with argument value {a}\")\\n\\ndef f2(a: int, b: str) -> None:\\n    print(f\"Funaction F1 called with argument value {a} and {b}\")', 'f1(**kwargs)', 'def f1(a: int) -> None:\\n    print(f\"Funaction F1 called with argument value {a}\")\\n\\ndef f2(a: int, b: str, **kwargs) -> None:\\n    print(f\"Funaction F1 called with argument value {a} and {b}\")', 'def f1(a: int) -> None:\\n    print(f\"Funaction F1 called with argument value {a}\")\\n\\ndef f2(a: int, b: str) -> None:\\n    print(f\"Funaction F1 called with argument value {a} and {b}\")', \"f2(1, 'x')\", \"kwargs = {'a': 1, 'b': 'x'}\", 'f1(**kwargs)', 'f2(**kwargs)', \"kwargs = {'a': 1, 'b': 'c'}\", 'f2(**kwargs)', \"kwargs = {'a': 1, 'b': 'x', 'c': 123}\", 'f2(**kwargs)', 'f1(**kwargs)', 'def f1(a: int, **kwargs) -> None:\\n    print(f\"Funaction F1 called with argument value {a}\")\\n\\ndef f2(a: int, b: str) -> None:\\n    print(f\"Funaction F1 called with argument value {a} and {b}\")', 'f1(**kwargs)', \"kwargs = {'a': 3, 'b': 'x', 'c': 123}\", 'f1(**kwargs)', 'def f1(z: int, **kwargs) -> None:\\n    print(f\"Funaction F1 called with argument value {a}\")\\n\\ndef f2(a: int, b: str) -> None:\\n    print(f\"Funaction F1 called with argument value {a} and {b}\")', 'f1(**kwargs)', 'def f1(**kwargs) -> None:\\n    print(f\"Funaction F1 called with argument value {a}\")\\n\\ndef f2(a: int, b: str) -> None:\\n    print(f\"Funaction F1 called with argument value {a} and {b}\")', 'f1(**kwargs)', 'def f1(**kwargs) -> None:\\n    print(\"Function f1 was called with {kwargs}\")\\n    print(f\"Funaction F1 called with argument value {a}\")\\n\\ndef f2(a: int, b: str) -> None:\\n    print(f\"Funaction F1 called with argument value {a} and {b}\")', 'f1(**kwargs)', 'def f1(**kwargs) -> None:\\n    print(\"Function f1 was called with {kwargs}\")\\n    #print(f\"Funaction F1 called with argument value {a}\")\\n\\ndef f2(a: int, b: str) -> None:\\n    print(f\"Funaction F1 called with argument value {a} and {b}\")', 'f1(**kwargs)', 'def f1(**kwargs) -> None:\\n    print(f\"Function f1 was called with {kwargs}\")\\n    #print(f\"Funaction F1 called with argument value {a}\")\\n\\ndef f2(a: int, b: str) -> None:\\n    print(f\"Funaction F1 called with argument value {a} and {b}\")', 'f1(**kwargs)', 'def f1(**kwargs) -> None:\\n    print(f\"Function f1 was called with {**kwargs}\")\\n    #print(f\"Funaction F1 called with argument value {a}\")\\n\\ndef f2(a: int, b: str) -> None:\\n    print(f\"Funaction F1 called with argument value {a} and {b}\")', 'def f1(**kwargs) -> None:\\n    print(f\"Function f1 was called with {kwargs}\")\\n    #print(f\"Funaction F1 called with argument value {a}\")\\n\\ndef f2(a: int, b: str) -> None:\\n    print(f\"Funaction F1 called with argument value {a} and {b}\")', 'def f1(a: int, **kwargs) -> None:\\n    print(f\"Function f1 was called with {kwargs}\")\\n    print(f\"Funaction F1 called with argument value {a}\")\\n\\ndef f2(a: int, b: str) -> None:\\n    print(f\"Funaction F1 called with argument value {a} and {b}\")', \"kwargs = {'a': 3, 'b': 'x', 'c': 123}\", 'f1(**kwargs)', 'print(vars())'], '_oh': {}, '_dh': [WindowsPath('c:/Users/ChrisTopping/Git'), WindowsPath('c:/Users/ChrisTopping/Git')], 'In': ['', 'def f1(a: int) -> None:\\n    print(f\"Funaction F1 called with argument value {a}\")\\n\\ndef f2(a: int, b: str) -> None:\\n    print(f\"Funaction F1 called with argument value {a} and {b}\")', 'f1(1)', 'f2(1)', \"f2(1, 'x')\", \"kwargs = {'a': 1, 'b': 'x'}\", 'f1(kwargs=kwargs)', 'f1(**kwargs)', 'def f1(a: int, **kwargs) -> None:\\n    print(f\"Funaction F1 called with argument value {a}\")\\n\\ndef f2(a: int, b: str) -> None:\\n    print(f\"Funaction F1 called with argument value {a} and {b}\")', 'f1(**kwargs)', 'def f1(a: int) -> None:\\n    print(f\"Funaction F1 called with argument value {a}\")\\n\\ndef f2(a: int, b: str, **kwargs) -> None:\\n    print(f\"Funaction F1 called with argument value {a} and {b}\")', 'def f1(a: int) -> None:\\n    print(f\"Funaction F1 called with argument value {a}\")\\n\\ndef f2(a: int, b: str) -> None:\\n    print(f\"Funaction F1 called with argument value {a} and {b}\")', \"f2(1, 'x')\", \"kwargs = {'a': 1, 'b': 'x'}\", 'f1(**kwargs)', 'f2(**kwargs)', \"kwargs = {'a': 1, 'b': 'c'}\", 'f2(**kwargs)', \"kwargs = {'a': 1, 'b': 'x', 'c': 123}\", 'f2(**kwargs)', 'f1(**kwargs)', 'def f1(a: int, **kwargs) -> None:\\n    print(f\"Funaction F1 called with argument value {a}\")\\n\\ndef f2(a: int, b: str) -> None:\\n    print(f\"Funaction F1 called with argument value {a} and {b}\")', 'f1(**kwargs)', \"kwargs = {'a': 3, 'b': 'x', 'c': 123}\", 'f1(**kwargs)', 'def f1(z: int, **kwargs) -> None:\\n    print(f\"Funaction F1 called with argument value {a}\")\\n\\ndef f2(a: int, b: str) -> None:\\n    print(f\"Funaction F1 called with argument value {a} and {b}\")', 'f1(**kwargs)', 'def f1(**kwargs) -> None:\\n    print(f\"Funaction F1 called with argument value {a}\")\\n\\ndef f2(a: int, b: str) -> None:\\n    print(f\"Funaction F1 called with argument value {a} and {b}\")', 'f1(**kwargs)', 'def f1(**kwargs) -> None:\\n    print(\"Function f1 was called with {kwargs}\")\\n    print(f\"Funaction F1 called with argument value {a}\")\\n\\ndef f2(a: int, b: str) -> None:\\n    print(f\"Funaction F1 called with argument value {a} and {b}\")', 'f1(**kwargs)', 'def f1(**kwargs) -> None:\\n    print(\"Function f1 was called with {kwargs}\")\\n    #print(f\"Funaction F1 called with argument value {a}\")\\n\\ndef f2(a: int, b: str) -> None:\\n    print(f\"Funaction F1 called with argument value {a} and {b}\")', 'f1(**kwargs)', 'def f1(**kwargs) -> None:\\n    print(f\"Function f1 was called with {kwargs}\")\\n    #print(f\"Funaction F1 called with argument value {a}\")\\n\\ndef f2(a: int, b: str) -> None:\\n    print(f\"Funaction F1 called with argument value {a} and {b}\")', 'f1(**kwargs)', 'def f1(**kwargs) -> None:\\n    print(f\"Function f1 was called with {**kwargs}\")\\n    #print(f\"Funaction F1 called with argument value {a}\")\\n\\ndef f2(a: int, b: str) -> None:\\n    print(f\"Funaction F1 called with argument value {a} and {b}\")', 'def f1(**kwargs) -> None:\\n    print(f\"Function f1 was called with {kwargs}\")\\n    #print(f\"Funaction F1 called with argument value {a}\")\\n\\ndef f2(a: int, b: str) -> None:\\n    print(f\"Funaction F1 called with argument value {a} and {b}\")', 'def f1(a: int, **kwargs) -> None:\\n    print(f\"Function f1 was called with {kwargs}\")\\n    print(f\"Funaction F1 called with argument value {a}\")\\n\\ndef f2(a: int, b: str) -> None:\\n    print(f\"Funaction F1 called with argument value {a} and {b}\")', \"kwargs = {'a': 3, 'b': 'x', 'c': 123}\", 'f1(**kwargs)', 'print(vars())'], 'Out': {}, 'get_ipython': <bound method InteractiveShell.get_ipython of <ipykernel.zmqshell.ZMQInteractiveShell object at 0x0000021D99EEC280>>, 'exit': <IPython.core.autocall.ZMQExitAutocall object at 0x0000021D99ED2590>, 'quit': <IPython.core.autocall.ZMQExitAutocall object at 0x0000021D99ED2590>, 'open': <function open at 0x0000021D987B8E50>, '_': '', '__': '', '___': '', '__vsc_ipynb_file__': 'c:\\\\Users\\\\ChrisTopping\\\\Git\\\\kwargs.ipynb', '_i': 'f1(**kwargs)', '_ii': \"kwargs = {'a': 3, 'b': 'x', 'c': 123}\", '_iii': 'def f1(a: int, **kwargs) -> None:\\n    print(f\"Function f1 was called with {kwargs}\")\\n    print(f\"Funaction F1 called with argument value {a}\")\\n\\ndef f2(a: int, b: str) -> None:\\n    print(f\"Funaction F1 called with argument value {a} and {b}\")', '_i1': 'def f1(a: int) -> None:\\n    print(f\"Funaction F1 called with argument value {a}\")\\n\\ndef f2(a: int, b: str) -> None:\\n    print(f\"Funaction F1 called with argument value {a} and {b}\")', 'f1': <function f1 at 0x0000021D9C019900>, 'f2': <function f2 at 0x0000021D9BCCBEB0>, '_i2': 'f1(1)', '_i3': 'f2(1)', '_i4': \"f2(1, 'x')\", '_i5': \"kwargs = {'a': 1, 'b': 'x'}\", 'kwargs': {'a': 3, 'b': 'x', 'c': 123}, '_i6': 'f1(kwargs=kwargs)', '_i7': 'f1(**kwargs)', '_i8': 'def f1(a: int, **kwargs) -> None:\\n    print(f\"Funaction F1 called with argument value {a}\")\\n\\ndef f2(a: int, b: str) -> None:\\n    print(f\"Funaction F1 called with argument value {a} and {b}\")', '_i9': 'f1(**kwargs)', '_i10': 'def f1(a: int) -> None:\\n    print(f\"Funaction F1 called with argument value {a}\")\\n\\ndef f2(a: int, b: str, **kwargs) -> None:\\n    print(f\"Funaction F1 called with argument value {a} and {b}\")', '_i11': 'def f1(a: int) -> None:\\n    print(f\"Funaction F1 called with argument value {a}\")\\n\\ndef f2(a: int, b: str) -> None:\\n    print(f\"Funaction F1 called with argument value {a} and {b}\")', '_i12': \"f2(1, 'x')\", '_i13': \"kwargs = {'a': 1, 'b': 'x'}\", '_i14': 'f1(**kwargs)', '_i15': 'f2(**kwargs)', '_i16': \"kwargs = {'a': 1, 'b': 'c'}\", '_i17': 'f2(**kwargs)', '_i18': \"kwargs = {'a': 1, 'b': 'x', 'c': 123}\", '_i19': 'f2(**kwargs)', '_i20': 'f1(**kwargs)', '_i21': 'def f1(a: int, **kwargs) -> None:\\n    print(f\"Funaction F1 called with argument value {a}\")\\n\\ndef f2(a: int, b: str) -> None:\\n    print(f\"Funaction F1 called with argument value {a} and {b}\")', '_i22': 'f1(**kwargs)', '_i23': \"kwargs = {'a': 3, 'b': 'x', 'c': 123}\", '_i24': 'f1(**kwargs)', '_i25': 'def f1(z: int, **kwargs) -> None:\\n    print(f\"Funaction F1 called with argument value {a}\")\\n\\ndef f2(a: int, b: str) -> None:\\n    print(f\"Funaction F1 called with argument value {a} and {b}\")', '_i26': 'f1(**kwargs)', '_i27': 'def f1(**kwargs) -> None:\\n    print(f\"Funaction F1 called with argument value {a}\")\\n\\ndef f2(a: int, b: str) -> None:\\n    print(f\"Funaction F1 called with argument value {a} and {b}\")', '_i28': 'f1(**kwargs)', '_i29': 'def f1(**kwargs) -> None:\\n    print(\"Function f1 was called with {kwargs}\")\\n    print(f\"Funaction F1 called with argument value {a}\")\\n\\ndef f2(a: int, b: str) -> None:\\n    print(f\"Funaction F1 called with argument value {a} and {b}\")', '_i30': 'f1(**kwargs)', '_i31': 'def f1(**kwargs) -> None:\\n    print(\"Function f1 was called with {kwargs}\")\\n    #print(f\"Funaction F1 called with argument value {a}\")\\n\\ndef f2(a: int, b: str) -> None:\\n    print(f\"Funaction F1 called with argument value {a} and {b}\")', '_i32': 'f1(**kwargs)', '_i33': 'def f1(**kwargs) -> None:\\n    print(f\"Function f1 was called with {kwargs}\")\\n    #print(f\"Funaction F1 called with argument value {a}\")\\n\\ndef f2(a: int, b: str) -> None:\\n    print(f\"Funaction F1 called with argument value {a} and {b}\")', '_i34': 'f1(**kwargs)', '_i35': 'def f1(**kwargs) -> None:\\n    print(f\"Function f1 was called with {**kwargs}\")\\n    #print(f\"Funaction F1 called with argument value {a}\")\\n\\ndef f2(a: int, b: str) -> None:\\n    print(f\"Funaction F1 called with argument value {a} and {b}\")', '_i36': 'def f1(**kwargs) -> None:\\n    print(f\"Function f1 was called with {kwargs}\")\\n    #print(f\"Funaction F1 called with argument value {a}\")\\n\\ndef f2(a: int, b: str) -> None:\\n    print(f\"Funaction F1 called with argument value {a} and {b}\")', '_i37': 'def f1(a: int, **kwargs) -> None:\\n    print(f\"Function f1 was called with {kwargs}\")\\n    print(f\"Funaction F1 called with argument value {a}\")\\n\\ndef f2(a: int, b: str) -> None:\\n    print(f\"Funaction F1 called with argument value {a} and {b}\")', '_i38': \"kwargs = {'a': 3, 'b': 'x', 'c': 123}\", '_i39': 'f1(**kwargs)', '_i40': 'print(vars())'}\n"
     ]
    }
   ],
   "source": [
    "print(vars())"
   ]
  }
 ],
 "metadata": {
  "kernelspec": {
   "display_name": "base",
   "language": "python",
   "name": "python3"
  },
  "language_info": {
   "codemirror_mode": {
    "name": "ipython",
    "version": 3
   },
   "file_extension": ".py",
   "mimetype": "text/x-python",
   "name": "python",
   "nbconvert_exporter": "python",
   "pygments_lexer": "ipython3",
   "version": "3.10.9"
  },
  "orig_nbformat": 4
 },
 "nbformat": 4,
 "nbformat_minor": 2
}
