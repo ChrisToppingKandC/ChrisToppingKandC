{
 "cells": [
  {
   "cell_type": "code",
   "execution_count": null,
   "metadata": {},
   "outputs": [],
   "source": [
    "from azure.identity import DefaultAzureCredential, InteractiveBrowserCredential\n",
    "from azure.mgmt.web import WebSiteManagementClient\n",
    "from azure.keyvault.secrets import SecretClient\n",
    "import requests\n",
    "import pprint"
   ]
  },
  {
   "cell_type": "code",
   "execution_count": null,
   "metadata": {},
   "outputs": [],
   "source": [
    "tenant_id = \"5878df98-6f88-48ab-9322-998ce557088d\"\n",
    "subscription_id = \"ff442a29-fc06-4a13-8e3e-65fd5da513b3\"\n",
    "subscription = \"pins-odw-data-dev-sub\"\n",
    "resource_group_name = \"pins-rg-function-app-odw-dev-uks\"\n",
    "function_app_name = \"pins-fnapp01-odw-dev-uks\"\n",
    "function_name = \"caseschedule\""
   ]
  },
  {
   "cell_type": "code",
   "execution_count": null,
   "metadata": {},
   "outputs": [],
   "source": [
    "credential = DefaultAzureCredential(authority=f\"https://login.microsoftonline.com/{tenant_id}\")\n",
    "token = credential.get_token(\"https://management.azure.com/.default\")\n",
    "access_token = token.token"
   ]
  },
  {
   "cell_type": "code",
   "execution_count": null,
   "metadata": {},
   "outputs": [],
   "source": [
    "functions_url = f\"https://management.azure.com/subscriptions/{subscription_id}/resourceGroups/{resource_group_name}/providers/Microsoft.Web/sites/{function_app_name}/functions?api-version=2022-03-01\"\n",
    "\n",
    "headers = {\n",
    "        \"Authorization\": f\"Bearer {access_token}\",\n",
    "        \"Content-Type\": \"application/json\"\n",
    "    }"
   ]
  },
  {
   "cell_type": "code",
   "execution_count": null,
   "metadata": {},
   "outputs": [],
   "source": [
    "def listfunctions():\n",
    "    function_list = []\n",
    "    functions = requests.get(functions_url, headers=headers)\n",
    "    for function in functions.json()['value']:\n",
    "        function_name = function['properties']['config']['name']\n",
    "        function_list.append(function_name)\n",
    "    return function_list\n",
    "\n",
    "listfunctions()"
   ]
  },
  {
   "cell_type": "code",
   "execution_count": null,
   "metadata": {},
   "outputs": [],
   "source": [
    "def getfunctionurls():\n",
    "    urls = []\n",
    "    for function in listfunctions():\n",
    "        function_key_url = f\"https://management.azure.com/subscriptions/{subscription_id}/resourceGroups/{resource_group_name}/providers/Microsoft.Web/sites/{function_app_name}/functions/{function}/listkeys?api-version=2022-03-01\"\n",
    "        keys = requests.post(function_key_url, headers=headers)\n",
    "        code = keys.json()['default']\n",
    "        function_url = f\"https://{function_app_name}.azurewebsites.net/api/{function}?code={code}\"\n",
    "        urls.append(function_url)\n",
    "    return urls\n",
    "\n",
    "getfunctionurls()"
   ]
  },
  {
   "cell_type": "code",
   "execution_count": null,
   "metadata": {},
   "outputs": [],
   "source": [
    "def generatesecretnames():\n",
    "    secret_names = []\n",
    "    for function in listfunctions():\n",
    "        secret_name = f\"function-url-{function}\"\n",
    "        secret_names.append(secret_name)\n",
    "    return secret_names\n",
    "\n",
    "generatesecretnames()\n"
   ]
  },
  {
   "cell_type": "code",
   "execution_count": null,
   "metadata": {},
   "outputs": [],
   "source": [
    "names = generatesecretnames()\n",
    "urls = getfunctionurls()\n",
    "\n",
    "keyvault_dict = {name: url for name, url in zip(names, urls)}\n",
    "\n",
    "pprint.pprint(keyvault_dict)"
   ]
  }
 ],
 "metadata": {
  "kernelspec": {
   "display_name": "base",
   "language": "python",
   "name": "python3"
  },
  "language_info": {
   "codemirror_mode": {
    "name": "ipython",
    "version": 3
   },
   "file_extension": ".py",
   "mimetype": "text/x-python",
   "name": "python",
   "nbconvert_exporter": "python",
   "pygments_lexer": "ipython3",
   "version": "3.10.13"
  }
 },
 "nbformat": 4,
 "nbformat_minor": 2
}
