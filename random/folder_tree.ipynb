{
 "cells": [
  {
   "cell_type": "code",
   "execution_count": 25,
   "metadata": {},
   "outputs": [
    {
     "name": "stdout",
     "output_type": "stream",
     "text": [
      "functions/\n",
      "    .funcignore\n",
      "    config.yaml\n",
      "    deploy.sh\n",
      "    function_app.py\n",
      "    helper/\n",
      "        datamodel-codegen.sh\n",
      "        getfunctionurlsandsetkeyvaultsecrets.py\n",
      "    host.json\n",
      "    local.settings.json\n",
      "    requirements.txt\n",
      "    servicebus_funcs.py\n",
      "    set_environment.py\n",
      "    tests/\n",
      "        config.yaml\n",
      "        config_test.ipynb\n",
      "        servicebus_funcs.py\n",
      "        set_environment.py\n",
      "        test.ipynb\n",
      "        validate_messages.py\n",
      "        validate_test.ipynb\n",
      "        var_funcs.py\n",
      "    validate_messages.py\n",
      "    var_funcs.py\n",
      "    __azurite_db_blob_extent__.json\n",
      "    __azurite_db_blob__.json\n",
      "    __blobstorage__/\n",
      "        133dcd74-40d4-4248-b91e-ea4b76126ae6\n"
     ]
    }
   ],
   "source": [
    "from pathlib import Path\n",
    "\n",
    "def print_directory_tree(directory_path, exclude_folders, indent=\"\"):\n",
    "    if exclude_folders is None:\n",
    "        exclude_folders = []\n",
    "\n",
    "    path = Path(directory_path)\n",
    "\n",
    "    if path.is_file():\n",
    "        print(f\"{indent}{path.name}\")\n",
    "    elif path.is_dir():\n",
    "        if path.name not in exclude_folders:\n",
    "            print(f\"{indent}{path.name}/\")\n",
    "            for child in path.iterdir():\n",
    "                print_directory_tree(child, exclude_folders, indent + \"    \")\n",
    "\n",
    "\n",
    "root = Path.cwd().parent.parent\n",
    "functions_path = root / \"functions\"\n",
    "exclude_folders = [\".vscode\", \"__pycache__\", \".venv\", \".ruff_cache\", \"archive\", \".python_packages\"]\n",
    "print_directory_tree(functions_path, exclude_folders=exclude_folders)"
   ]
  }
 ],
 "metadata": {
  "kernelspec": {
   "display_name": "functions-env",
   "language": "python",
   "name": "python3"
  },
  "language_info": {
   "codemirror_mode": {
    "name": "ipython",
    "version": 3
   },
   "file_extension": ".py",
   "mimetype": "text/x-python",
   "name": "python",
   "nbconvert_exporter": "python",
   "pygments_lexer": "ipython3",
   "version": "3.11.5"
  }
 },
 "nbformat": 4,
 "nbformat_minor": 2
}
